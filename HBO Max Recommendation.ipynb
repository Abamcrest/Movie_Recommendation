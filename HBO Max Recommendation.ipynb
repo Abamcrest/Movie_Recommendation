{
 "cells": [
  {
   "cell_type": "markdown",
   "id": "2b8790a1",
   "metadata": {},
   "source": [
    "**HBO Max TV Shows and Movies Recommendation**"
   ]
  },
  {
   "cell_type": "markdown",
   "id": "69894a1e",
   "metadata": {},
   "source": [
    "**OLADIMEJI OMOLOLA .S**\n",
    "\n",
    "**About the Dataset:**\n",
    "\n",
    "**HBO Max is a subscription-based streaming platform that allows users to watch movies and TV shows without advertisements. One of the reasons behind the popularity of the platform is its recommendation system which shows us movies and TV shows according to our interests. This HBO Max TV Shows and Movies dataset from 1939 to 2021 was downloaded on kaggle.**"
   ]
  },
  {
   "cell_type": "code",
   "execution_count": 1,
   "id": "c7239922",
   "metadata": {},
   "outputs": [],
   "source": [
    "import numpy as np\n",
    "import pandas as pd\n",
    "import matplotlib.pyplot as plt"
   ]
  },
  {
   "cell_type": "code",
   "execution_count": 2,
   "id": "43fb94f8",
   "metadata": {},
   "outputs": [
    {
     "data": {
      "text/html": [
       "<div>\n",
       "<style scoped>\n",
       "    .dataframe tbody tr th:only-of-type {\n",
       "        vertical-align: middle;\n",
       "    }\n",
       "\n",
       "    .dataframe tbody tr th {\n",
       "        vertical-align: top;\n",
       "    }\n",
       "\n",
       "    .dataframe thead th {\n",
       "        text-align: right;\n",
       "    }\n",
       "</style>\n",
       "<table border=\"1\" class=\"dataframe\">\n",
       "  <thead>\n",
       "    <tr style=\"text-align: right;\">\n",
       "      <th></th>\n",
       "      <th>id</th>\n",
       "      <th>title</th>\n",
       "      <th>type</th>\n",
       "      <th>description</th>\n",
       "      <th>release_year</th>\n",
       "      <th>age_certification</th>\n",
       "      <th>runtime</th>\n",
       "      <th>genres</th>\n",
       "      <th>production_countries</th>\n",
       "      <th>seasons</th>\n",
       "      <th>imdb_id</th>\n",
       "      <th>imdb_score</th>\n",
       "      <th>imdb_votes</th>\n",
       "      <th>tmdb_popularity</th>\n",
       "      <th>tmdb_score</th>\n",
       "    </tr>\n",
       "  </thead>\n",
       "  <tbody>\n",
       "    <tr>\n",
       "      <th>0</th>\n",
       "      <td>tm155702</td>\n",
       "      <td>The Wizard of Oz</td>\n",
       "      <td>MOVIE</td>\n",
       "      <td>Young Dorothy finds herself in a magical world...</td>\n",
       "      <td>1939</td>\n",
       "      <td>G</td>\n",
       "      <td>102</td>\n",
       "      <td>['fantasy', 'family']</td>\n",
       "      <td>['US']</td>\n",
       "      <td>NaN</td>\n",
       "      <td>tt0032138</td>\n",
       "      <td>8.1</td>\n",
       "      <td>389774.0</td>\n",
       "      <td>41.442</td>\n",
       "      <td>7.6</td>\n",
       "    </tr>\n",
       "    <tr>\n",
       "      <th>1</th>\n",
       "      <td>tm83648</td>\n",
       "      <td>Citizen Kane</td>\n",
       "      <td>MOVIE</td>\n",
       "      <td>Newspaper magnate, Charles Foster Kane is take...</td>\n",
       "      <td>1941</td>\n",
       "      <td>PG</td>\n",
       "      <td>119</td>\n",
       "      <td>['drama']</td>\n",
       "      <td>['US']</td>\n",
       "      <td>NaN</td>\n",
       "      <td>tt0033467</td>\n",
       "      <td>8.3</td>\n",
       "      <td>433804.0</td>\n",
       "      <td>14.383</td>\n",
       "      <td>8.0</td>\n",
       "    </tr>\n",
       "    <tr>\n",
       "      <th>2</th>\n",
       "      <td>tm77588</td>\n",
       "      <td>Casablanca</td>\n",
       "      <td>MOVIE</td>\n",
       "      <td>In Casablanca, Morocco in December 1941, a cyn...</td>\n",
       "      <td>1942</td>\n",
       "      <td>PG</td>\n",
       "      <td>102</td>\n",
       "      <td>['drama', 'romance', 'war']</td>\n",
       "      <td>['US']</td>\n",
       "      <td>NaN</td>\n",
       "      <td>tt0034583</td>\n",
       "      <td>8.5</td>\n",
       "      <td>558849.0</td>\n",
       "      <td>20.087</td>\n",
       "      <td>8.2</td>\n",
       "    </tr>\n",
       "    <tr>\n",
       "      <th>3</th>\n",
       "      <td>tm82363</td>\n",
       "      <td>The Big Sleep</td>\n",
       "      <td>MOVIE</td>\n",
       "      <td>Private Investigator Philip Marlowe is hired b...</td>\n",
       "      <td>1946</td>\n",
       "      <td>NaN</td>\n",
       "      <td>116</td>\n",
       "      <td>['thriller', 'crime']</td>\n",
       "      <td>['US']</td>\n",
       "      <td>NaN</td>\n",
       "      <td>tt0038355</td>\n",
       "      <td>7.9</td>\n",
       "      <td>84494.0</td>\n",
       "      <td>12.911</td>\n",
       "      <td>7.7</td>\n",
       "    </tr>\n",
       "    <tr>\n",
       "      <th>4</th>\n",
       "      <td>tm84701</td>\n",
       "      <td>The Maltese Falcon</td>\n",
       "      <td>MOVIE</td>\n",
       "      <td>A private detective takes on a case that invol...</td>\n",
       "      <td>1941</td>\n",
       "      <td>NaN</td>\n",
       "      <td>100</td>\n",
       "      <td>['thriller', 'romance', 'crime']</td>\n",
       "      <td>['US']</td>\n",
       "      <td>NaN</td>\n",
       "      <td>tt0033870</td>\n",
       "      <td>8.0</td>\n",
       "      <td>156603.0</td>\n",
       "      <td>12.788</td>\n",
       "      <td>7.8</td>\n",
       "    </tr>\n",
       "  </tbody>\n",
       "</table>\n",
       "</div>"
      ],
      "text/plain": [
       "         id               title   type  \\\n",
       "0  tm155702    The Wizard of Oz  MOVIE   \n",
       "1   tm83648        Citizen Kane  MOVIE   \n",
       "2   tm77588          Casablanca  MOVIE   \n",
       "3   tm82363       The Big Sleep  MOVIE   \n",
       "4   tm84701  The Maltese Falcon  MOVIE   \n",
       "\n",
       "                                         description  release_year  \\\n",
       "0  Young Dorothy finds herself in a magical world...          1939   \n",
       "1  Newspaper magnate, Charles Foster Kane is take...          1941   \n",
       "2  In Casablanca, Morocco in December 1941, a cyn...          1942   \n",
       "3  Private Investigator Philip Marlowe is hired b...          1946   \n",
       "4  A private detective takes on a case that invol...          1941   \n",
       "\n",
       "  age_certification  runtime                            genres  \\\n",
       "0                 G      102             ['fantasy', 'family']   \n",
       "1                PG      119                         ['drama']   \n",
       "2                PG      102       ['drama', 'romance', 'war']   \n",
       "3               NaN      116             ['thriller', 'crime']   \n",
       "4               NaN      100  ['thriller', 'romance', 'crime']   \n",
       "\n",
       "  production_countries  seasons    imdb_id  imdb_score  imdb_votes  \\\n",
       "0               ['US']      NaN  tt0032138         8.1    389774.0   \n",
       "1               ['US']      NaN  tt0033467         8.3    433804.0   \n",
       "2               ['US']      NaN  tt0034583         8.5    558849.0   \n",
       "3               ['US']      NaN  tt0038355         7.9     84494.0   \n",
       "4               ['US']      NaN  tt0033870         8.0    156603.0   \n",
       "\n",
       "   tmdb_popularity  tmdb_score  \n",
       "0           41.442         7.6  \n",
       "1           14.383         8.0  \n",
       "2           20.087         8.2  \n",
       "3           12.911         7.7  \n",
       "4           12.788         7.8  "
      ]
     },
     "execution_count": 2,
     "metadata": {},
     "output_type": "execute_result"
    }
   ],
   "source": [
    "# importing the dataset\n",
    "data= pd.read_csv('HBO_Max.csv')\n",
    "data.head()"
   ]
  },
  {
   "cell_type": "code",
   "execution_count": 3,
   "id": "ae0946cc",
   "metadata": {},
   "outputs": [
    {
     "data": {
      "text/plain": [
       "(3294, 15)"
      ]
     },
     "execution_count": 3,
     "metadata": {},
     "output_type": "execute_result"
    }
   ],
   "source": [
    "#checking the number of rows and columns of the dataset\n",
    "data.shape"
   ]
  },
  {
   "cell_type": "code",
   "execution_count": 4,
   "id": "1fea40e5",
   "metadata": {
    "scrolled": true
   },
   "outputs": [
    {
     "name": "stdout",
     "output_type": "stream",
     "text": [
      "<class 'pandas.core.frame.DataFrame'>\n",
      "RangeIndex: 3294 entries, 0 to 3293\n",
      "Data columns (total 15 columns):\n",
      " #   Column                Non-Null Count  Dtype  \n",
      "---  ------                --------------  -----  \n",
      " 0   id                    3294 non-null   object \n",
      " 1   title                 3294 non-null   object \n",
      " 2   type                  3294 non-null   object \n",
      " 3   description           3282 non-null   object \n",
      " 4   release_year          3294 non-null   int64  \n",
      " 5   age_certification     2086 non-null   object \n",
      " 6   runtime               3294 non-null   int64  \n",
      " 7   genres                3294 non-null   object \n",
      " 8   production_countries  3294 non-null   object \n",
      " 9   seasons               756 non-null    float64\n",
      " 10  imdb_id               2968 non-null   object \n",
      " 11  imdb_score            2922 non-null   float64\n",
      " 12  imdb_votes            2911 non-null   float64\n",
      " 13  tmdb_popularity       3261 non-null   float64\n",
      " 14  tmdb_score            3026 non-null   float64\n",
      "dtypes: float64(5), int64(2), object(8)\n",
      "memory usage: 386.1+ KB\n"
     ]
    }
   ],
   "source": [
    "# checking the concise summary of the dataset\n",
    "data.info()"
   ]
  },
  {
   "cell_type": "code",
   "execution_count": 7,
   "id": "39f5dde0",
   "metadata": {
    "scrolled": false
   },
   "outputs": [
    {
     "data": {
      "text/plain": [
       "Index(['id', 'title', 'type', 'description', 'release_year',\n",
       "       'age_certification', 'runtime', 'genres', 'production_countries',\n",
       "       'seasons', 'imdb_id', 'imdb_score', 'imdb_votes', 'tmdb_popularity',\n",
       "       'tmdb_score'],\n",
       "      dtype='object')"
      ]
     },
     "execution_count": 7,
     "metadata": {},
     "output_type": "execute_result"
    }
   ],
   "source": [
    "# checking all the columns of the dataset\n",
    "data.columns"
   ]
  },
  {
   "cell_type": "code",
   "execution_count": 8,
   "id": "6dadc5cb",
   "metadata": {},
   "outputs": [
    {
     "data": {
      "text/html": [
       "<div>\n",
       "<style scoped>\n",
       "    .dataframe tbody tr th:only-of-type {\n",
       "        vertical-align: middle;\n",
       "    }\n",
       "\n",
       "    .dataframe tbody tr th {\n",
       "        vertical-align: top;\n",
       "    }\n",
       "\n",
       "    .dataframe thead th {\n",
       "        text-align: right;\n",
       "    }\n",
       "</style>\n",
       "<table border=\"1\" class=\"dataframe\">\n",
       "  <thead>\n",
       "    <tr style=\"text-align: right;\">\n",
       "      <th></th>\n",
       "      <th>release_year</th>\n",
       "      <th>runtime</th>\n",
       "      <th>seasons</th>\n",
       "      <th>imdb_score</th>\n",
       "      <th>imdb_votes</th>\n",
       "      <th>tmdb_popularity</th>\n",
       "      <th>tmdb_score</th>\n",
       "    </tr>\n",
       "  </thead>\n",
       "  <tbody>\n",
       "    <tr>\n",
       "      <th>count</th>\n",
       "      <td>3294.000000</td>\n",
       "      <td>3294.000000</td>\n",
       "      <td>756.000000</td>\n",
       "      <td>2922.000000</td>\n",
       "      <td>2.911000e+03</td>\n",
       "      <td>3261.000000</td>\n",
       "      <td>3026.000000</td>\n",
       "    </tr>\n",
       "    <tr>\n",
       "      <th>mean</th>\n",
       "      <td>2001.194293</td>\n",
       "      <td>80.914997</td>\n",
       "      <td>2.998677</td>\n",
       "      <td>6.883949</td>\n",
       "      <td>6.461835e+04</td>\n",
       "      <td>21.105891</td>\n",
       "      <td>6.850099</td>\n",
       "    </tr>\n",
       "    <tr>\n",
       "      <th>std</th>\n",
       "      <td>23.542337</td>\n",
       "      <td>38.475347</td>\n",
       "      <td>3.651181</td>\n",
       "      <td>1.059668</td>\n",
       "      <td>1.754617e+05</td>\n",
       "      <td>89.137800</td>\n",
       "      <td>1.081377</td>\n",
       "    </tr>\n",
       "    <tr>\n",
       "      <th>min</th>\n",
       "      <td>1901.000000</td>\n",
       "      <td>1.000000</td>\n",
       "      <td>1.000000</td>\n",
       "      <td>1.500000</td>\n",
       "      <td>5.000000e+00</td>\n",
       "      <td>0.050393</td>\n",
       "      <td>1.000000</td>\n",
       "    </tr>\n",
       "    <tr>\n",
       "      <th>25%</th>\n",
       "      <td>1995.000000</td>\n",
       "      <td>51.250000</td>\n",
       "      <td>1.000000</td>\n",
       "      <td>6.300000</td>\n",
       "      <td>9.245000e+02</td>\n",
       "      <td>3.450000</td>\n",
       "      <td>6.200000</td>\n",
       "    </tr>\n",
       "    <tr>\n",
       "      <th>50%</th>\n",
       "      <td>2010.000000</td>\n",
       "      <td>89.000000</td>\n",
       "      <td>2.000000</td>\n",
       "      <td>7.000000</td>\n",
       "      <td>8.071000e+03</td>\n",
       "      <td>8.561000</td>\n",
       "      <td>6.900000</td>\n",
       "    </tr>\n",
       "    <tr>\n",
       "      <th>75%</th>\n",
       "      <td>2018.000000</td>\n",
       "      <td>106.000000</td>\n",
       "      <td>4.000000</td>\n",
       "      <td>7.600000</td>\n",
       "      <td>4.764500e+04</td>\n",
       "      <td>17.711000</td>\n",
       "      <td>7.500000</td>\n",
       "    </tr>\n",
       "    <tr>\n",
       "      <th>max</th>\n",
       "      <td>2022.000000</td>\n",
       "      <td>255.000000</td>\n",
       "      <td>52.000000</td>\n",
       "      <td>9.400000</td>\n",
       "      <td>2.555504e+06</td>\n",
       "      <td>4447.894000</td>\n",
       "      <td>10.000000</td>\n",
       "    </tr>\n",
       "  </tbody>\n",
       "</table>\n",
       "</div>"
      ],
      "text/plain": [
       "       release_year      runtime     seasons   imdb_score    imdb_votes  \\\n",
       "count   3294.000000  3294.000000  756.000000  2922.000000  2.911000e+03   \n",
       "mean    2001.194293    80.914997    2.998677     6.883949  6.461835e+04   \n",
       "std       23.542337    38.475347    3.651181     1.059668  1.754617e+05   \n",
       "min     1901.000000     1.000000    1.000000     1.500000  5.000000e+00   \n",
       "25%     1995.000000    51.250000    1.000000     6.300000  9.245000e+02   \n",
       "50%     2010.000000    89.000000    2.000000     7.000000  8.071000e+03   \n",
       "75%     2018.000000   106.000000    4.000000     7.600000  4.764500e+04   \n",
       "max     2022.000000   255.000000   52.000000     9.400000  2.555504e+06   \n",
       "\n",
       "       tmdb_popularity   tmdb_score  \n",
       "count      3261.000000  3026.000000  \n",
       "mean         21.105891     6.850099  \n",
       "std          89.137800     1.081377  \n",
       "min           0.050393     1.000000  \n",
       "25%           3.450000     6.200000  \n",
       "50%           8.561000     6.900000  \n",
       "75%          17.711000     7.500000  \n",
       "max        4447.894000    10.000000  "
      ]
     },
     "execution_count": 8,
     "metadata": {},
     "output_type": "execute_result"
    }
   ],
   "source": [
    "# checking the descriptive statistical summary of the dataset\n",
    "data.describe()"
   ]
  },
  {
   "cell_type": "code",
   "execution_count": 9,
   "id": "f7eccbdc",
   "metadata": {
    "scrolled": true
   },
   "outputs": [
    {
     "data": {
      "text/plain": [
       "id                         0\n",
       "title                      0\n",
       "type                       0\n",
       "description               12\n",
       "release_year               0\n",
       "age_certification       1208\n",
       "runtime                    0\n",
       "genres                     0\n",
       "production_countries       0\n",
       "seasons                 2538\n",
       "imdb_id                  326\n",
       "imdb_score               372\n",
       "imdb_votes               383\n",
       "tmdb_popularity           33\n",
       "tmdb_score               268\n",
       "dtype: int64"
      ]
     },
     "execution_count": 9,
     "metadata": {},
     "output_type": "execute_result"
    }
   ],
   "source": [
    "# checking the sum of all the null values\n",
    "data.isna().sum()"
   ]
  },
  {
   "cell_type": "code",
   "execution_count": 10,
   "id": "2a9ad480",
   "metadata": {},
   "outputs": [
    {
     "data": {
      "text/plain": [
       "0"
      ]
     },
     "execution_count": 10,
     "metadata": {},
     "output_type": "execute_result"
    }
   ],
   "source": [
    "# checking for duplicate values\n",
    "data.duplicated().sum()"
   ]
  },
  {
   "cell_type": "markdown",
   "id": "9aaf9cac",
   "metadata": {},
   "source": [
    "__Preprocessing__"
   ]
  },
  {
   "cell_type": "code",
   "execution_count": 11,
   "id": "b9bd5495",
   "metadata": {},
   "outputs": [],
   "source": [
    "# Picking the selected columns required\n",
    "data =data[['title', 'description', 'type', 'release_year', 'age_certification', 'genres', 'imdb_score']]"
   ]
  },
  {
   "cell_type": "code",
   "execution_count": 12,
   "id": "a8d67cc2",
   "metadata": {
    "scrolled": true
   },
   "outputs": [
    {
     "data": {
      "text/html": [
       "<div>\n",
       "<style scoped>\n",
       "    .dataframe tbody tr th:only-of-type {\n",
       "        vertical-align: middle;\n",
       "    }\n",
       "\n",
       "    .dataframe tbody tr th {\n",
       "        vertical-align: top;\n",
       "    }\n",
       "\n",
       "    .dataframe thead th {\n",
       "        text-align: right;\n",
       "    }\n",
       "</style>\n",
       "<table border=\"1\" class=\"dataframe\">\n",
       "  <thead>\n",
       "    <tr style=\"text-align: right;\">\n",
       "      <th></th>\n",
       "      <th>title</th>\n",
       "      <th>description</th>\n",
       "      <th>type</th>\n",
       "      <th>release_year</th>\n",
       "      <th>age_certification</th>\n",
       "      <th>genres</th>\n",
       "      <th>imdb_score</th>\n",
       "    </tr>\n",
       "  </thead>\n",
       "  <tbody>\n",
       "    <tr>\n",
       "      <th>0</th>\n",
       "      <td>The Wizard of Oz</td>\n",
       "      <td>Young Dorothy finds herself in a magical world...</td>\n",
       "      <td>MOVIE</td>\n",
       "      <td>1939</td>\n",
       "      <td>G</td>\n",
       "      <td>['fantasy', 'family']</td>\n",
       "      <td>8.1</td>\n",
       "    </tr>\n",
       "    <tr>\n",
       "      <th>1</th>\n",
       "      <td>Citizen Kane</td>\n",
       "      <td>Newspaper magnate, Charles Foster Kane is take...</td>\n",
       "      <td>MOVIE</td>\n",
       "      <td>1941</td>\n",
       "      <td>PG</td>\n",
       "      <td>['drama']</td>\n",
       "      <td>8.3</td>\n",
       "    </tr>\n",
       "    <tr>\n",
       "      <th>2</th>\n",
       "      <td>Casablanca</td>\n",
       "      <td>In Casablanca, Morocco in December 1941, a cyn...</td>\n",
       "      <td>MOVIE</td>\n",
       "      <td>1942</td>\n",
       "      <td>PG</td>\n",
       "      <td>['drama', 'romance', 'war']</td>\n",
       "      <td>8.5</td>\n",
       "    </tr>\n",
       "    <tr>\n",
       "      <th>3</th>\n",
       "      <td>The Big Sleep</td>\n",
       "      <td>Private Investigator Philip Marlowe is hired b...</td>\n",
       "      <td>MOVIE</td>\n",
       "      <td>1946</td>\n",
       "      <td>NaN</td>\n",
       "      <td>['thriller', 'crime']</td>\n",
       "      <td>7.9</td>\n",
       "    </tr>\n",
       "    <tr>\n",
       "      <th>4</th>\n",
       "      <td>The Maltese Falcon</td>\n",
       "      <td>A private detective takes on a case that invol...</td>\n",
       "      <td>MOVIE</td>\n",
       "      <td>1941</td>\n",
       "      <td>NaN</td>\n",
       "      <td>['thriller', 'romance', 'crime']</td>\n",
       "      <td>8.0</td>\n",
       "    </tr>\n",
       "    <tr>\n",
       "      <th>...</th>\n",
       "      <td>...</td>\n",
       "      <td>...</td>\n",
       "      <td>...</td>\n",
       "      <td>...</td>\n",
       "      <td>...</td>\n",
       "      <td>...</td>\n",
       "      <td>...</td>\n",
       "    </tr>\n",
       "    <tr>\n",
       "      <th>3289</th>\n",
       "      <td>Romeo Santos: Utopia Live from MetLife Stadium</td>\n",
       "      <td>In this Concert he focuses on the star and mos...</td>\n",
       "      <td>MOVIE</td>\n",
       "      <td>2021</td>\n",
       "      <td>NaN</td>\n",
       "      <td>['romance', 'music']</td>\n",
       "      <td>NaN</td>\n",
       "    </tr>\n",
       "    <tr>\n",
       "      <th>3290</th>\n",
       "      <td>Algo Azul</td>\n",
       "      <td>Romantic comedy...coming soon.</td>\n",
       "      <td>MOVIE</td>\n",
       "      <td>2021</td>\n",
       "      <td>NaN</td>\n",
       "      <td>['comedy']</td>\n",
       "      <td>5.9</td>\n",
       "    </tr>\n",
       "    <tr>\n",
       "      <th>3291</th>\n",
       "      <td>Entre Nos: What She Said</td>\n",
       "      <td>A stand-up comedy special featuring Shari Diaz...</td>\n",
       "      <td>MOVIE</td>\n",
       "      <td>2021</td>\n",
       "      <td>NaN</td>\n",
       "      <td>['comedy']</td>\n",
       "      <td>NaN</td>\n",
       "    </tr>\n",
       "    <tr>\n",
       "      <th>3292</th>\n",
       "      <td>Entre Nos: The Winners 2</td>\n",
       "      <td>Comedy special starring winners of the second ...</td>\n",
       "      <td>MOVIE</td>\n",
       "      <td>2021</td>\n",
       "      <td>NaN</td>\n",
       "      <td>['comedy']</td>\n",
       "      <td>NaN</td>\n",
       "    </tr>\n",
       "    <tr>\n",
       "      <th>3293</th>\n",
       "      <td>The Infamous Future</td>\n",
       "      <td>The untold story of New York City's Eagle Acad...</td>\n",
       "      <td>MOVIE</td>\n",
       "      <td>2021</td>\n",
       "      <td>NaN</td>\n",
       "      <td>['documentation']</td>\n",
       "      <td>NaN</td>\n",
       "    </tr>\n",
       "  </tbody>\n",
       "</table>\n",
       "<p>3294 rows × 7 columns</p>\n",
       "</div>"
      ],
      "text/plain": [
       "                                               title  \\\n",
       "0                                   The Wizard of Oz   \n",
       "1                                       Citizen Kane   \n",
       "2                                         Casablanca   \n",
       "3                                      The Big Sleep   \n",
       "4                                 The Maltese Falcon   \n",
       "...                                              ...   \n",
       "3289  Romeo Santos: Utopia Live from MetLife Stadium   \n",
       "3290                                       Algo Azul   \n",
       "3291                        Entre Nos: What She Said   \n",
       "3292                        Entre Nos: The Winners 2   \n",
       "3293                             The Infamous Future   \n",
       "\n",
       "                                            description   type  release_year  \\\n",
       "0     Young Dorothy finds herself in a magical world...  MOVIE          1939   \n",
       "1     Newspaper magnate, Charles Foster Kane is take...  MOVIE          1941   \n",
       "2     In Casablanca, Morocco in December 1941, a cyn...  MOVIE          1942   \n",
       "3     Private Investigator Philip Marlowe is hired b...  MOVIE          1946   \n",
       "4     A private detective takes on a case that invol...  MOVIE          1941   \n",
       "...                                                 ...    ...           ...   \n",
       "3289  In this Concert he focuses on the star and mos...  MOVIE          2021   \n",
       "3290                     Romantic comedy...coming soon.  MOVIE          2021   \n",
       "3291  A stand-up comedy special featuring Shari Diaz...  MOVIE          2021   \n",
       "3292  Comedy special starring winners of the second ...  MOVIE          2021   \n",
       "3293  The untold story of New York City's Eagle Acad...  MOVIE          2021   \n",
       "\n",
       "     age_certification                            genres  imdb_score  \n",
       "0                    G             ['fantasy', 'family']         8.1  \n",
       "1                   PG                         ['drama']         8.3  \n",
       "2                   PG       ['drama', 'romance', 'war']         8.5  \n",
       "3                  NaN             ['thriller', 'crime']         7.9  \n",
       "4                  NaN  ['thriller', 'romance', 'crime']         8.0  \n",
       "...                ...                               ...         ...  \n",
       "3289               NaN              ['romance', 'music']         NaN  \n",
       "3290               NaN                        ['comedy']         5.9  \n",
       "3291               NaN                        ['comedy']         NaN  \n",
       "3292               NaN                        ['comedy']         NaN  \n",
       "3293               NaN                 ['documentation']         NaN  \n",
       "\n",
       "[3294 rows x 7 columns]"
      ]
     },
     "execution_count": 12,
     "metadata": {},
     "output_type": "execute_result"
    }
   ],
   "source": [
    "data"
   ]
  },
  {
   "cell_type": "code",
   "execution_count": 13,
   "id": "cc5a322b",
   "metadata": {
    "scrolled": true
   },
   "outputs": [],
   "source": [
    "#Dropping the Null value rows\n",
    "data.dropna(inplace = True)"
   ]
  },
  {
   "cell_type": "code",
   "execution_count": 14,
   "id": "84464f25",
   "metadata": {},
   "outputs": [],
   "source": [
    "# Cleaning the genre column\n",
    "data['genres'] = data['genres'].map(lambda x: x.strip(\"[]''\"))\n",
    "data['genres'] = data['genres'].str.replace(\"'\",\"\")"
   ]
  },
  {
   "cell_type": "code",
   "execution_count": 15,
   "id": "eb1f5679",
   "metadata": {},
   "outputs": [
    {
     "data": {
      "text/html": [
       "<div>\n",
       "<style scoped>\n",
       "    .dataframe tbody tr th:only-of-type {\n",
       "        vertical-align: middle;\n",
       "    }\n",
       "\n",
       "    .dataframe tbody tr th {\n",
       "        vertical-align: top;\n",
       "    }\n",
       "\n",
       "    .dataframe thead th {\n",
       "        text-align: right;\n",
       "    }\n",
       "</style>\n",
       "<table border=\"1\" class=\"dataframe\">\n",
       "  <thead>\n",
       "    <tr style=\"text-align: right;\">\n",
       "      <th></th>\n",
       "      <th>title</th>\n",
       "      <th>description</th>\n",
       "      <th>type</th>\n",
       "      <th>release_year</th>\n",
       "      <th>age_certification</th>\n",
       "      <th>genres</th>\n",
       "      <th>imdb_score</th>\n",
       "    </tr>\n",
       "  </thead>\n",
       "  <tbody>\n",
       "    <tr>\n",
       "      <th>0</th>\n",
       "      <td>The Wizard of Oz</td>\n",
       "      <td>Young Dorothy finds herself in a magical world...</td>\n",
       "      <td>MOVIE</td>\n",
       "      <td>1939</td>\n",
       "      <td>G</td>\n",
       "      <td>fantasy, family</td>\n",
       "      <td>8.1</td>\n",
       "    </tr>\n",
       "    <tr>\n",
       "      <th>1</th>\n",
       "      <td>Citizen Kane</td>\n",
       "      <td>Newspaper magnate, Charles Foster Kane is take...</td>\n",
       "      <td>MOVIE</td>\n",
       "      <td>1941</td>\n",
       "      <td>PG</td>\n",
       "      <td>drama</td>\n",
       "      <td>8.3</td>\n",
       "    </tr>\n",
       "    <tr>\n",
       "      <th>2</th>\n",
       "      <td>Casablanca</td>\n",
       "      <td>In Casablanca, Morocco in December 1941, a cyn...</td>\n",
       "      <td>MOVIE</td>\n",
       "      <td>1942</td>\n",
       "      <td>PG</td>\n",
       "      <td>drama, romance, war</td>\n",
       "      <td>8.5</td>\n",
       "    </tr>\n",
       "    <tr>\n",
       "      <th>5</th>\n",
       "      <td>Gone with the Wind</td>\n",
       "      <td>The spoiled daughter of a well-to-do plantatio...</td>\n",
       "      <td>MOVIE</td>\n",
       "      <td>1939</td>\n",
       "      <td>G</td>\n",
       "      <td>war, romance, drama, history</td>\n",
       "      <td>8.2</td>\n",
       "    </tr>\n",
       "    <tr>\n",
       "      <th>13</th>\n",
       "      <td>M</td>\n",
       "      <td>In this classic German thriller, Hans Beckert,...</td>\n",
       "      <td>MOVIE</td>\n",
       "      <td>1931</td>\n",
       "      <td>PG-13</td>\n",
       "      <td>thriller, european, crime</td>\n",
       "      <td>8.3</td>\n",
       "    </tr>\n",
       "  </tbody>\n",
       "</table>\n",
       "</div>"
      ],
      "text/plain": [
       "                 title                                        description  \\\n",
       "0     The Wizard of Oz  Young Dorothy finds herself in a magical world...   \n",
       "1         Citizen Kane  Newspaper magnate, Charles Foster Kane is take...   \n",
       "2           Casablanca  In Casablanca, Morocco in December 1941, a cyn...   \n",
       "5   Gone with the Wind  The spoiled daughter of a well-to-do plantatio...   \n",
       "13                   M  In this classic German thriller, Hans Beckert,...   \n",
       "\n",
       "     type  release_year age_certification                        genres  \\\n",
       "0   MOVIE          1939                 G               fantasy, family   \n",
       "1   MOVIE          1941                PG                         drama   \n",
       "2   MOVIE          1942                PG           drama, romance, war   \n",
       "5   MOVIE          1939                 G  war, romance, drama, history   \n",
       "13  MOVIE          1931             PG-13     thriller, european, crime   \n",
       "\n",
       "    imdb_score  \n",
       "0          8.1  \n",
       "1          8.3  \n",
       "2          8.5  \n",
       "5          8.2  \n",
       "13         8.3  "
      ]
     },
     "execution_count": 15,
     "metadata": {},
     "output_type": "execute_result"
    }
   ],
   "source": [
    "data.head()"
   ]
  },
  {
   "cell_type": "code",
   "execution_count": 16,
   "id": "eb1ec8ab",
   "metadata": {},
   "outputs": [
    {
     "data": {
      "text/plain": [
       "MOVIE    0.699485\n",
       "SHOW     0.300515\n",
       "Name: type, dtype: float64"
      ]
     },
     "execution_count": 16,
     "metadata": {},
     "output_type": "execute_result"
    }
   ],
   "source": [
    "data['type'].value_counts(normalize=True)"
   ]
  },
  {
   "cell_type": "code",
   "execution_count": 18,
   "id": "b5a5a48a",
   "metadata": {
    "scrolled": true
   },
   "outputs": [
    {
     "data": {
      "image/png": "[encoded data removed]",
      "text/plain": [
       "<Figure size 432x288 with 1 Axes>"
      ]
     },
     "metadata": {},
     "output_type": "display_data"
    }
   ],
   "source": [
    "# Checking the data distribution based on type column\n",
    "colors= ['orange', 'purple']\n",
    "data['type'].value_counts(normalize=True).plot(kind='pie', colors=colors, autopct= '%1.1f%%')\n",
    "plt.title('Frequency of the types ')\n",
    "plt.show()"
   ]
  },
  {
   "cell_type": "code",
   "execution_count": 19,
   "id": "85851fe6",
   "metadata": {
    "scrolled": true
   },
   "outputs": [
    {
     "data": {
      "text/plain": [
       "2021    153\n",
       "2020    100\n",
       "2019     86\n",
       "2013     80\n",
       "2018     75\n",
       "2011     70\n",
       "2008     64\n",
       "2010     60\n",
       "2016     58\n",
       "2007     54\n",
       "2005     52\n",
       "2017     51\n",
       "2014     49\n",
       "2009     49\n",
       "2003     47\n",
       "2012     46\n",
       "2002     46\n",
       "2004     46\n",
       "2006     46\n",
       "2001     45\n",
       "Name: release_year, dtype: int64"
      ]
     },
     "execution_count": 19,
     "metadata": {},
     "output_type": "execute_result"
    }
   ],
   "source": [
    "# Top 20 highest TV Movies and Shows based on the year released\n",
    "data['release_year']. value_counts()[:20]"
   ]
  },
  {
   "cell_type": "code",
   "execution_count": 20,
   "id": "ec1da776",
   "metadata": {},
   "outputs": [
    {
     "data": {
      "image/png": "[encoded data removed]",
      "text/plain": [
       "<Figure size 864x576 with 1 Axes>"
      ]
     },
     "metadata": {
      "needs_background": "light"
     },
     "output_type": "display_data"
    }
   ],
   "source": [
    "# Visualizing the Top 20 Movies and TV Shows Based on Years Released\n",
    "plt.figure(figsize=(12, 8))\n",
    "data.release_year.value_counts()[:20].plot(kind ='bar', color ='purple')\n",
    "plt.xlabel('Number of Movies/Shows')\n",
    "plt.ylabel('Release Year')\n",
    "plt.title('Top 20 Movies and TV Shows Released Per Years')\n",
    "plt.show()"
   ]
  },
  {
   "cell_type": "code",
   "execution_count": 112,
   "id": "d4420b38",
   "metadata": {},
   "outputs": [
    {
     "data": {
      "image/png": "[encoded data removed]",
      "text/plain": [
       "<Figure size 864x576 with 1 Axes>"
      ]
     },
     "metadata": {
      "needs_background": "light"
     },
     "output_type": "display_data"
    }
   ],
   "source": [
    "# Visualizing the Top 20 Movies and TV Shows Based on Age Certification\n",
    "plt.figure(figsize=(12, 8))\n",
    "data.age_certification.value_counts()[:20].plot(kind ='bar', color ='green')\n",
    "plt.xlabel('Number of Movies/Shows')\n",
    "plt.ylabel('Age Certification')\n",
    "plt.title('Top 20 Movies and TV Shows Based on Age Certification')\n",
    "plt.show()"
   ]
  },
  {
   "cell_type": "markdown",
   "id": "1b96efbd",
   "metadata": {},
   "source": [
    "__Text Processing__"
   ]
  },
  {
   "cell_type": "code",
   "execution_count": 40,
   "id": "e0ce20ca",
   "metadata": {
    "scrolled": true
   },
   "outputs": [
    {
     "name": "stderr",
     "output_type": "stream",
     "text": [
      "[nltk_data] Downloading package stopwords to\n",
      "[nltk_data]     C:\\Users\\HP\\AppData\\Roaming\\nltk_data...\n",
      "[nltk_data]   Package stopwords is already up-to-date!\n"
     ]
    }
   ],
   "source": [
    "import nltk\n",
    "import re\n",
    "nltk.download('stopwords')\n",
    "from nltk.corpus import stopwords\n",
    "from nltk.tokenize import word_tokenize\n",
    "from nltk.stem import PorterStemmer\n",
    "from nltk.stem import WordNetLemmatizer\n",
    "en_stopwords = stopwords.words('english')\n",
    "import string\n",
    "lemmatizer = WordNetLemmatizer()"
   ]
  },
  {
   "cell_type": "code",
   "execution_count": 42,
   "id": "0926c03d",
   "metadata": {},
   "outputs": [],
   "source": [
    "def clean(text):\n",
    "    text = re.sub(\"[^A-Za-z1-9 ]\", \"\", str(text))\n",
    "    text = text.lower()\n",
    "    tokens = word_tokenize(text)\n",
    "    clean_list = []\n",
    "    for token in tokens:\n",
    "        if token not in en_stopwords:\n",
    "            clean_list.append(lemmatizer.lemmatize(token))\n",
    "    return \" \".join(clean_list)"
   ]
  },
  {
   "cell_type": "code",
   "execution_count": 43,
   "id": "5a1892d4",
   "metadata": {},
   "outputs": [
    {
     "data": {
      "text/plain": [
       "'Young Dorothy finds herself in a magical world where she makes friends with a lion, a scarecrow and a tin man as they make their way along the yellow brick road to talk with the Wizard and ask for the things they miss most in their lives. The Wicked Witch of the West is the only thing that could stop them.'"
      ]
     },
     "execution_count": 43,
     "metadata": {},
     "output_type": "execute_result"
    }
   ],
   "source": [
    "text=data.description[0]\n",
    "text"
   ]
  },
  {
   "cell_type": "code",
   "execution_count": 44,
   "id": "c0b9e137",
   "metadata": {},
   "outputs": [
    {
     "data": {
      "text/plain": [
       "'young dorothy finds herself in a magical world where she makes friends with a lion, a scarecrow and a tin man as they make their way along the yellow brick road to talk with the wizard and ask for the things they miss most in their lives. the wicked witch of the west is the only thing that could stop them.'"
      ]
     },
     "execution_count": 44,
     "metadata": {},
     "output_type": "execute_result"
    }
   ],
   "source": [
    "text.lower()"
   ]
  },
  {
   "cell_type": "code",
   "execution_count": 46,
   "id": "97bcd332",
   "metadata": {
    "scrolled": true
   },
   "outputs": [
    {
     "name": "stdout",
     "output_type": "stream",
     "text": [
      "herself\n",
      "in\n",
      "a\n",
      "where\n",
      "she\n",
      "with\n",
      "a\n",
      "a\n",
      "and\n",
      "a\n",
      "as\n",
      "they\n",
      "their\n",
      "the\n",
      "to\n",
      "with\n",
      "the\n",
      "and\n",
      "for\n",
      "the\n",
      "they\n",
      "most\n",
      "in\n",
      "their\n",
      "of\n",
      "the\n",
      "is\n",
      "the\n",
      "only\n",
      "that\n",
      "them\n"
     ]
    }
   ],
   "source": [
    "tokens = word_tokenize(text)\n",
    "for token in tokens:\n",
    "    if token in en_stopwords:\n",
    "        print(token)"
   ]
  },
  {
   "cell_type": "code",
   "execution_count": 129,
   "id": "2e1aaa30",
   "metadata": {},
   "outputs": [
    {
     "data": {
      "text/plain": [
       "0       Young Dorothy finds herself in a magical world...\n",
       "1       Newspaper magnate, Charles Foster Kane is take...\n",
       "2       In Casablanca, Morocco in December 1941, a cyn...\n",
       "3       Private Investigator Philip Marlowe is hired b...\n",
       "4       A private detective takes on a case that invol...\n",
       "                              ...                        \n",
       "3289    In this Concert he focuses on the star and mos...\n",
       "3290                       Romantic comedy...coming soon.\n",
       "3291    A stand-up comedy special featuring Shari Diaz...\n",
       "3292    Comedy special starring winners of the second ...\n",
       "3293    The untold story of New York City's Eagle Acad...\n",
       "Name: description, Length: 3294, dtype: object"
      ]
     },
     "execution_count": 129,
     "metadata": {},
     "output_type": "execute_result"
    }
   ],
   "source": [
    "data.description"
   ]
  },
  {
   "cell_type": "code",
   "execution_count": 51,
   "id": "d59a23d2",
   "metadata": {},
   "outputs": [],
   "source": [
    "stemer = PorterStemmer()"
   ]
  },
  {
   "cell_type": "code",
   "execution_count": 52,
   "id": "ee25ff82",
   "metadata": {
    "scrolled": false
   },
   "outputs": [
    {
     "name": "stdout",
     "output_type": "stream",
     "text": [
      "young\n",
      "dorothi\n",
      "find\n",
      "magic\n",
      "world\n",
      "make\n",
      "friend\n",
      "lion\n",
      ",\n",
      "scarecrow\n",
      "tin\n",
      "man\n",
      "make\n",
      "way\n",
      "along\n",
      "yellow\n",
      "brick\n",
      "road\n",
      "talk\n",
      "wizard\n",
      "ask\n",
      "thing\n",
      "miss\n",
      "live\n",
      ".\n",
      "the\n",
      "wick\n",
      "witch\n",
      "west\n",
      "thing\n",
      "could\n",
      "stop\n",
      ".\n"
     ]
    }
   ],
   "source": [
    "for token in tokens:\n",
    "    if token not in en_stopwords:\n",
    "        print(stemer.stem(token))"
   ]
  },
  {
   "cell_type": "code",
   "execution_count": 47,
   "id": "0ee5b4f7",
   "metadata": {},
   "outputs": [],
   "source": [
    "data['title'] = data['title'].apply(clean)"
   ]
  },
  {
   "cell_type": "code",
   "execution_count": 131,
   "id": "37f6bc94",
   "metadata": {},
   "outputs": [],
   "source": [
    "data[\"text\"]= data['title'] + \" \" + data['description'] + data[\"genres\"]"
   ]
  },
  {
   "cell_type": "code",
   "execution_count": 135,
   "id": "df9f02a1",
   "metadata": {},
   "outputs": [
    {
     "data": {
      "text/plain": [
       "345                                                 Faces\n",
       "1027                           A Child's Garden of Verses\n",
       "704                    Mike Mulligan and His Steam Shovel\n",
       "1780                                From Up on Poppy Hill\n",
       "1215                                           The Switch\n",
       "2609                                        Kajillionaire\n",
       "849                                           Wonder Boys\n",
       "3016                                                 Kimi\n",
       "1734                                              Super 8\n",
       "72                                         The Front Page\n",
       "530                The VI Olympic Winter Games, Oslo 1952\n",
       "496                                            The Coward\n",
       "1615          Dana Carvey: Squatting Monkeys Tell No Lies\n",
       "2851                                        Hidden Russia\n",
       "1760                                The Looney Tunes Show\n",
       "185                                   Captain Kidd's Kids\n",
       "368                                          Vivre Sa Vie\n",
       "2839    In the Shadow of the Towers: Stuyvesant High o...\n",
       "1249                                Employee of the Month\n",
       "1941                                         Hello Ladies\n",
       "Name: title, dtype: object"
      ]
     },
     "execution_count": 135,
     "metadata": {},
     "output_type": "execute_result"
    }
   ],
   "source": [
    "data.title.sample(20)"
   ]
  },
  {
   "cell_type": "code",
   "execution_count": 71,
   "id": "f6d38e03",
   "metadata": {},
   "outputs": [],
   "source": [
    "from sklearn.feature_extraction.text import TfidfVectorizer"
   ]
  },
  {
   "cell_type": "code",
   "execution_count": 72,
   "id": "d4abe45e",
   "metadata": {},
   "outputs": [],
   "source": [
    "tf =TfidfVectorizer()"
   ]
  },
  {
   "cell_type": "code",
   "execution_count": 73,
   "id": "e746f082",
   "metadata": {},
   "outputs": [],
   "source": [
    "vectorizer = TfidfVectorizer()"
   ]
  },
  {
   "cell_type": "code",
   "execution_count": 74,
   "id": "7d94873c",
   "metadata": {},
   "outputs": [],
   "source": [
    "text_matrix = tf.fit_transform(data.description)"
   ]
  },
  {
   "cell_type": "code",
   "execution_count": 64,
   "id": "65653299",
   "metadata": {},
   "outputs": [
    {
     "data": {
      "text/plain": [
       "(1940, 13083)"
      ]
     },
     "execution_count": 64,
     "metadata": {},
     "output_type": "execute_result"
    }
   ],
   "source": [
    "text_matrix.shape"
   ]
  },
  {
   "cell_type": "code",
   "execution_count": 82,
   "id": "cf4ab255",
   "metadata": {},
   "outputs": [
    {
     "name": "stdout",
     "output_type": "stream",
     "text": [
      "Text Matrix: [[0. 0. 0. ... 0. 0. 0.]\n",
      " [0. 0. 0. ... 0. 0. 0.]\n",
      " [0. 0. 0. ... 0. 0. 0.]\n",
      " ...\n",
      " [0. 0. 0. ... 0. 0. 0.]\n",
      " [0. 0. 0. ... 0. 0. 0.]\n",
      " [0. 0. 0. ... 0. 0. 0.]]\n"
     ]
    }
   ],
   "source": [
    "text_matrix = tf.fit_transform(data[\"description\"])\n",
    "print(\"Text Matrix:\", text_matrix.toarray())"
   ]
  },
  {
   "cell_type": "markdown",
   "id": "7eb5ab0d",
   "metadata": {},
   "source": [
    "**Cosine Similarity**"
   ]
  },
  {
   "cell_type": "code",
   "execution_count": 65,
   "id": "d8c657c1",
   "metadata": {},
   "outputs": [],
   "source": [
    "from sklearn.metrics.pairwise import cosine_similarity"
   ]
  },
  {
   "cell_type": "code",
   "execution_count": 77,
   "id": "d1814043",
   "metadata": {},
   "outputs": [],
   "source": [
    "feature = data[\"genres\"].tolist()\n",
    "tfidf = TfidfVectorizer(input=feature, stop_words=\"english\")\n",
    "tfidf_matrix = tfidf.fit_transform(feature)\n",
    "similarity = cosine_similarity(tfidf_matrix)"
   ]
  },
  {
   "cell_type": "code",
   "execution_count": 84,
   "id": "fd592de3",
   "metadata": {},
   "outputs": [
    {
     "data": {
      "text/plain": [
       "array([[1.        , 0.08646254, 0.02200918, ..., 0.01911134, 0.09800144,\n",
       "        0.00409201],\n",
       "       [0.08646254, 1.        , 0.00610283, ..., 0.01942767, 0.03333158,\n",
       "        0.0298696 ],\n",
       "       [0.02200918, 0.00610283, 1.        , ..., 0.00708907, 0.        ,\n",
       "        0.        ],\n",
       "       ...,\n",
       "       [0.01911134, 0.01942767, 0.00708907, ..., 1.        , 0.02307877,\n",
       "        0.00240246],\n",
       "       [0.09800144, 0.03333158, 0.        , ..., 0.02307877, 1.        ,\n",
       "        0.00550297],\n",
       "       [0.00409201, 0.0298696 , 0.        , ..., 0.00240246, 0.00550297,\n",
       "        1.        ]])"
      ]
     },
     "execution_count": 84,
     "metadata": {},
     "output_type": "execute_result"
    }
   ],
   "source": [
    "cosine_sim = cosine_similarity(text_matrix)\n",
    "cosine_sim"
   ]
  },
  {
   "cell_type": "code",
   "execution_count": 113,
   "id": "5568254a",
   "metadata": {},
   "outputs": [],
   "source": [
    "# Showing 20 movies recommendation based on similarity\n",
    "def HBO_recommendation(title, similarity = similarity):\n",
    "    index = indices[title]\n",
    "    similarity_scores = list(enumerate(similarity[index]))\n",
    "    similarity_scores = sorted(similarity_scores, key=lambda x:x[1], reverse=True)\n",
    "    similarity_scores = similarity_scores[0:20]\n",
    "    movieindices = [i[0] for i in similarity_scores]\n",
    "    return data['title'].iloc[movieindices]"
   ]
  },
  {
   "cell_type": "code",
   "execution_count": 115,
   "id": "882fe803",
   "metadata": {
    "scrolled": true
   },
   "outputs": [
    {
     "name": "stdout",
     "output_type": "stream",
     "text": [
      "2            casablanca\n",
      "1084          atonement\n",
      "1753          lucky one\n",
      "673       iron eagle ii\n",
      "1008     miss evers boy\n",
      "1399           hart war\n",
      "1913         book thief\n",
      "2382        yellow bird\n",
      "424          last metro\n",
      "233                mash\n",
      "1271     tristan isolde\n",
      "1757         parade end\n",
      "5             gone wind\n",
      "988        trumpet fade\n",
      "1155    generation kill\n",
      "24                     \n",
      "2571          year year\n",
      "1932          wind rise\n",
      "1266      cold mountain\n",
      "2017        aldnoahzero\n",
      "Name: title, dtype: object\n"
     ]
    }
   ],
   "source": [
    "print(HBO_recommendation('casablanca'))"
   ]
  },
  {
   "cell_type": "code",
   "execution_count": 148,
   "id": "03400b74",
   "metadata": {},
   "outputs": [
    {
     "name": "stdout",
     "output_type": "stream",
     "text": [
      "1                 Citizen Kane\n",
      "10                    Rashomon\n",
      "13                           M\n",
      "24          To Be or Not to Be\n",
      "30                Now, Voyager\n",
      "43         Battleship Potemkin\n",
      "63               Blithe Spirit\n",
      "104                     Speedy\n",
      "113            The Son of Kong\n",
      "119         One Foot in Heaven\n",
      "121                  Rembrandt\n",
      "194                    Stalker\n",
      "200              Soylent Green\n",
      "262           A Bridge Too Far\n",
      "282        The Hidden Fortress\n",
      "287    Elevator to the Gallows\n",
      "310                  La Strada\n",
      "318              Night and Fog\n",
      "334    Ali: Fear Eats the Soul\n",
      "489    Terror of Mechagodzilla\n",
      "Name: title, dtype: object\n"
     ]
    }
   ],
   "source": [
    "print(HBO_recommendation('day thunder'))"
   ]
  }
 ],
 "metadata": {
  "kernelspec": {
   "display_name": "Python 3 (ipykernel)",
   "language": "python",
   "name": "python3"
  },
  "language_info": {
   "codemirror_mode": {
    "name": "ipython",
    "version": 3
   },
   "file_extension": ".py",
   "mimetype": "text/x-python",
   "name": "python",
   "nbconvert_exporter": "python",
   "pygments_lexer": "ipython3",
   "version": "3.9.12"
  }
 },
 "nbformat": 4,
 "nbformat_minor": 5
}
